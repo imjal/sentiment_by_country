{
 "cells": [
  {
   "cell_type": "code",
   "execution_count": 1,
   "metadata": {},
   "outputs": [],
   "source": [
    "import folium \n",
    "import pandas as pd\n",
    "import numpy as np\n",
    "import pickle\n",
    "import pycountry\n",
    "import json\n",
    "from folium.map import *\n",
    "from folium import plugins\n",
    "from branca.colormap import linear\n",
    "import pdb"
   ]
  },
  {
   "cell_type": "code",
   "execution_count": 2,
   "metadata": {},
   "outputs": [],
   "source": [
    "geo_str = 'geo_json_gpi.json'\n",
    "\n",
    "m = folium.Map(location=[48, -102], zoom_start=3)\n",
    "\n",
    "d = pickle.load(open('sent-alpha_3.p', 'rb'))\n",
    "df =  pd.DataFrame.from_dict(d, orient = 'index')\n",
    "df = df.reset_index()\n",
    "df = df.rename(columns={\"index\": \"name\", 0: \"sentiment\"})"
   ]
  },
  {
   "cell_type": "code",
   "execution_count": 3,
   "metadata": {},
   "outputs": [],
   "source": [
    "dict_sentiment = df.set_index('name')['sentiment']"
   ]
  },
  {
   "cell_type": "code",
   "execution_count": 6,
   "metadata": {},
   "outputs": [
    {
     "ename": "AttributeError",
     "evalue": "'function' object has no attribute 'add_to'",
     "output_type": "error",
     "traceback": [
      "\u001b[0;31m---------------------------------------------------------------------------\u001b[0m",
      "\u001b[0;31mAttributeError\u001b[0m                            Traceback (most recent call last)",
      "\u001b[0;32m<ipython-input-6-ccdfe72e7a7d>\u001b[0m in \u001b[0;36m<module>\u001b[0;34m\u001b[0m\n\u001b[1;32m     38\u001b[0m \u001b[0mfolium\u001b[0m\u001b[0;34m.\u001b[0m\u001b[0mLayerControl\u001b[0m\u001b[0;34m(\u001b[0m\u001b[0;34m)\u001b[0m\u001b[0;34m.\u001b[0m\u001b[0madd_to\u001b[0m\u001b[0;34m(\u001b[0m\u001b[0mm\u001b[0m\u001b[0;34m)\u001b[0m\u001b[0;34m\u001b[0m\u001b[0;34m\u001b[0m\u001b[0m\n\u001b[1;32m     39\u001b[0m \u001b[0mcolor_scale_fun\u001b[0m\u001b[0;34m.\u001b[0m\u001b[0mcaption\u001b[0m \u001b[0;34m=\u001b[0m \u001b[0;34m'Sentiment Color Scale'\u001b[0m\u001b[0;34m\u001b[0m\u001b[0;34m\u001b[0m\u001b[0m\n\u001b[0;32m---> 40\u001b[0;31m \u001b[0mcolor_scale_fun\u001b[0m\u001b[0;34m.\u001b[0m\u001b[0madd_to\u001b[0m\u001b[0;34m(\u001b[0m\u001b[0mm\u001b[0m\u001b[0;34m)\u001b[0m\u001b[0;34m\u001b[0m\u001b[0;34m\u001b[0m\u001b[0m\n\u001b[0m\u001b[1;32m     41\u001b[0m \u001b[0;34m\u001b[0m\u001b[0m\n\u001b[1;32m     42\u001b[0m \u001b[0mm\u001b[0m\u001b[0;34m\u001b[0m\u001b[0;34m\u001b[0m\u001b[0m\n",
      "\u001b[0;31mAttributeError\u001b[0m: 'function' object has no attribute 'add_to'"
     ]
    }
   ],
   "source": [
    "colormap = linear.YlGn_09.scale(df.sentiment.min(), df.sentiment.max())\n",
    "fill_opacity=0.7\n",
    "line_opacity=0.2\n",
    "line_weight=1\n",
    "nan_fill_color='black'\n",
    "nan_fill_opacity=None\n",
    "\n",
    "def highlight_function(x):\n",
    "    return {\n",
    "        'weight': line_weight + 2,\n",
    "        'fillOpacity': fill_opacity + .2\n",
    "    }\n",
    "\n",
    "def color_scale_fun(feature):\n",
    "    if feature['properties']['iso_a3'] is None:\n",
    "        return nan_fill_color\n",
    "    elif feature['properties']['iso_a3'] not in dict_sentiment: \n",
    "        return nan_fill_color\n",
    "    return colormap(dict_sentiment[feature['properties']['iso_a3']])\n",
    "\n",
    "folium.GeoJson(\n",
    "    data=geo_str,\n",
    "    style_function=lambda feature: {\n",
    "        'fillColor': color_scale_fun(feature),\n",
    "        'color': 'black',\n",
    "        'weight': 1,\n",
    "        'dashArray': '5, 5',\n",
    "        'fillOpacity': 0.9,\n",
    "    },\n",
    "    highlight_function=highlight_function,\n",
    "    tooltip=folium.GeoJsonTooltip(\n",
    "        fields=['name','gpi_score', 'gpi_rank'],\n",
    "        aliases=['Country', 'Global Peace Index Score', 'Global Peace Index Rank'],\n",
    "        localize=True,\n",
    "        style=('background-color: grey; color: white; font-family: courier new; font-size: 24px; padding: 10px;')\n",
    "    )\n",
    ").add_to(m)\n",
    "folium.LayerControl().add_to(m)\n",
    "colormap.caption = 'Sentiment Color Scale'\n",
    "colormap.add_to(m)\n",
    "\n",
    "m"
   ]
  },
  {
   "cell_type": "code",
   "execution_count": null,
   "metadata": {},
   "outputs": [],
   "source": [
    "folium.Choropleth(\n",
    "    geo_data=geo_str,\n",
    "    name='choropleth',\n",
    "    data=df,\n",
    "    columns=['name', 'sentiment'],\n",
    "    key_on='feature.properties.name',\n",
    "    fill_color='YlOrRd',\n",
    "    fill_opacity=0.7,\n",
    "    line_opacity=0.2,\n",
    "    legend_name='Sentiment of News'\n",
    ").add_to(m)\n",
    "\n",
    "folium.LayerControl().add_to(m)\n",
    "\n",
    "m"
   ]
  }
 ],
 "metadata": {
  "file_extension": ".py",
  "kernelspec": {
   "display_name": "Python 3",
   "language": "python",
   "name": "python3"
  },
  "language_info": {
   "codemirror_mode": {
    "name": "ipython",
    "version": 3
   },
   "file_extension": ".py",
   "mimetype": "text/x-python",
   "name": "python",
   "nbconvert_exporter": "python",
   "pygments_lexer": "ipython3",
   "version": "3.7.4"
  },
  "mimetype": "text/x-python",
  "name": "python",
  "npconvert_exporter": "python",
  "pygments_lexer": "ipython3",
  "version": 3
 },
 "nbformat": 4,
 "nbformat_minor": 2
}
